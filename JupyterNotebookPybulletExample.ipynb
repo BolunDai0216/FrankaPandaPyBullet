{
 "cells": [
  {
   "cell_type": "code",
   "execution_count": 1,
   "id": "e5d21983",
   "metadata": {},
   "outputs": [],
   "source": [
    "import copy\n",
    "import pathlib\n",
    "from pdb import set_trace\n",
    "\n",
    "import numpy as np\n",
    "import pybullet as p\n",
    "import pybullet_data\n",
    "from pinocchio.robot_wrapper import RobotWrapper\n",
    "\n",
    "from controllers.feedback_control import FeedbackController\n",
    "from controllers.utils import get_state_update_pinocchio, send_joint_command"
   ]
  },
  {
   "cell_type": "code",
   "execution_count": 2,
   "id": "c24af459",
   "metadata": {},
   "outputs": [],
   "source": [
    "p.connect(p.GUI)\n",
    "p.setAdditionalSearchPath(pybullet_data.getDataPath())\n",
    "p.setGravity(0, 0, -9.81)\n",
    "\n",
    "# Load plane\n",
    "p.loadURDF(\"plane.urdf\")\n",
    "\n",
    "# Load Franka Panda Robot\n",
    "robotID = p.loadURDF(\"./franka_panda/panda.urdf\", useFixedBase=True)\n",
    "\n",
    "# Get number of joints\n",
    "n_j = p.getNumJoints(robotID)\n",
    "\n",
    "debug_sliders = []\n",
    "joint_ids = []\n",
    "\n",
    "for i in range(n_j):\n",
    "    # get info of each joint\n",
    "    _joint_infos = p.getJointInfo(robotID, i)\n",
    "\n",
    "    if _joint_infos[2] != p.JOINT_FIXED:\n",
    "        # Add a debug slider for all non-fixed joints\n",
    "        debug_sliders.append(\n",
    "            p.addUserDebugParameter(\n",
    "                _joint_infos[1].decode(\"UTF-8\"),  # Joint Name\n",
    "                _joint_infos[8],  # Lower Joint Limit\n",
    "                _joint_infos[9],  # Upper Joint Limit\n",
    "                0.0,  # Default Joint Angle\n",
    "            )\n",
    "        )\n",
    "\n",
    "        # Save the non-fixed joint IDs\n",
    "        joint_ids.append(_joint_infos[0])"
   ]
  },
  {
   "cell_type": "code",
   "execution_count": 3,
   "id": "0b0b7da2",
   "metadata": {},
   "outputs": [
    {
     "ename": "KeyboardInterrupt",
     "evalue": "",
     "output_type": "error",
     "traceback": [
      "\u001b[0;31m---------------------------------------------------------------------------\u001b[0m",
      "\u001b[0;31mKeyboardInterrupt\u001b[0m                         Traceback (most recent call last)",
      "\u001b[0;32m<ipython-input-3-591a47362afc>\u001b[0m in \u001b[0;36m<module>\u001b[0;34m\u001b[0m\n\u001b[1;32m     11\u001b[0m         \u001b[0mp\u001b[0m\u001b[0;34m.\u001b[0m\u001b[0mresetJointState\u001b[0m\u001b[0;34m(\u001b[0m\u001b[0mrobotID\u001b[0m\u001b[0;34m,\u001b[0m \u001b[0mjoint_id\u001b[0m\u001b[0;34m,\u001b[0m \u001b[0m_joint_angle\u001b[0m\u001b[0;34m)\u001b[0m\u001b[0;34m\u001b[0m\u001b[0;34m\u001b[0m\u001b[0m\n\u001b[1;32m     12\u001b[0m \u001b[0;34m\u001b[0m\u001b[0m\n\u001b[0;32m---> 13\u001b[0;31m     \u001b[0mp\u001b[0m\u001b[0;34m.\u001b[0m\u001b[0mstepSimulation\u001b[0m\u001b[0;34m(\u001b[0m\u001b[0;34m)\u001b[0m\u001b[0;34m\u001b[0m\u001b[0;34m\u001b[0m\u001b[0m\n\u001b[0m",
      "\u001b[0;31mKeyboardInterrupt\u001b[0m: "
     ]
    }
   ],
   "source": [
    "while True:\n",
    "    for slider_id, joint_id in zip(debug_sliders, joint_ids):\n",
    "        # Get joint angle from debug slider\n",
    "        try:\n",
    "            _joint_angle = p.readUserDebugParameter(slider_id)\n",
    "        except:\n",
    "            # Sometimes it fails to read the debug slider\n",
    "            continue\n",
    "\n",
    "        # Apply joint angle to robot\n",
    "        p.resetJointState(robotID, joint_id, _joint_angle)\n",
    "\n",
    "    p.stepSimulation()"
   ]
  },
  {
   "cell_type": "code",
   "execution_count": null,
   "id": "e292c3eb",
   "metadata": {},
   "outputs": [],
   "source": []
  },
  {
   "cell_type": "code",
   "execution_count": null,
   "id": "ab2a0f1e",
   "metadata": {},
   "outputs": [],
   "source": []
  }
 ],
 "metadata": {
  "kernelspec": {
   "display_name": "mim_env",
   "language": "python",
   "name": "mim_env"
  },
  "language_info": {
   "codemirror_mode": {
    "name": "ipython",
    "version": 3
   },
   "file_extension": ".py",
   "mimetype": "text/x-python",
   "name": "python",
   "nbconvert_exporter": "python",
   "pygments_lexer": "ipython3",
   "version": "3.8.13"
  }
 },
 "nbformat": 4,
 "nbformat_minor": 5
}
